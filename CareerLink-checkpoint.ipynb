{
 "cells": [
  {
   "cell_type": "code",
   "execution_count": 142,
   "id": "91665452",
   "metadata": {},
   "outputs": [],
   "source": [
    "import pandas as pd\n",
    "import numpy as np\n",
    "import pandas as pd\n",
    "import nltk\n",
    "from nltk.tokenize import word_tokenize\n",
    "from nltk.corpus import stopwords\n",
    "from nltk.stem import WordNetLemmatizer\n",
    "import string"
   ]
  },
  {
   "cell_type": "code",
   "execution_count": 143,
   "id": "08f24c04",
   "metadata": {},
   "outputs": [],
   "source": [
    "companies = pd.read_csv(r'C:\\Users\\fgfhf\\Downloads\\jobs.csv')\n",
    "applicants = pd.read_csv(r'C:\\Users\\fgfhf\\Downloads\\applicants.csv')"
   ]
  },
  {
   "cell_type": "markdown",
   "id": "96c7276a",
   "metadata": {},
   "source": [
    "# Preprocessing"
   ]
  },
  {
   "cell_type": "code",
   "execution_count": 144,
   "id": "f91d2ca6",
   "metadata": {
    "scrolled": true
   },
   "outputs": [
    {
     "data": {
      "text/html": [
       "<div>\n",
       "<style scoped>\n",
       "    .dataframe tbody tr th:only-of-type {\n",
       "        vertical-align: middle;\n",
       "    }\n",
       "\n",
       "    .dataframe tbody tr th {\n",
       "        vertical-align: top;\n",
       "    }\n",
       "\n",
       "    .dataframe thead th {\n",
       "        text-align: right;\n",
       "    }\n",
       "</style>\n",
       "<table border=\"1\" class=\"dataframe\">\n",
       "  <thead>\n",
       "    <tr style=\"text-align: right;\">\n",
       "      <th></th>\n",
       "      <th>id</th>\n",
       "      <th>Job_Role</th>\n",
       "      <th>Company</th>\n",
       "      <th>Location</th>\n",
       "      <th>Skills/Description</th>\n",
       "    </tr>\n",
       "  </thead>\n",
       "  <tbody>\n",
       "    <tr>\n",
       "      <th>0</th>\n",
       "      <td>1</td>\n",
       "      <td>Senior Data Scientist</td>\n",
       "      <td>UPL</td>\n",
       "      <td>Bangalore/Bengaluru, Mumbai (All Areas)</td>\n",
       "      <td>python, MLT, statistical modeling, machine lea...</td>\n",
       "    </tr>\n",
       "    <tr>\n",
       "      <th>1</th>\n",
       "      <td>2</td>\n",
       "      <td>Senior Data Scientist</td>\n",
       "      <td>Walmart</td>\n",
       "      <td>Bangalore/Bengaluru</td>\n",
       "      <td>Data Science, Machine learning, Python, Azure,...</td>\n",
       "    </tr>\n",
       "    <tr>\n",
       "      <th>2</th>\n",
       "      <td>3</td>\n",
       "      <td>Applied Data Scientist / ML Senior Engineer (P...</td>\n",
       "      <td>SAP India Pvt.Ltd</td>\n",
       "      <td>Bangalore/Bengaluru</td>\n",
       "      <td>Python, IT Skills, Testing, Cloud, Product Man...</td>\n",
       "    </tr>\n",
       "    <tr>\n",
       "      <th>3</th>\n",
       "      <td>4</td>\n",
       "      <td>Data Scientist</td>\n",
       "      <td>UPL</td>\n",
       "      <td>Bangalore/Bengaluru, Mumbai (All Areas)</td>\n",
       "      <td>python, machine learning, Data Science, data a...</td>\n",
       "    </tr>\n",
       "    <tr>\n",
       "      <th>4</th>\n",
       "      <td>5</td>\n",
       "      <td>Data Scientist</td>\n",
       "      <td>Walmart</td>\n",
       "      <td>Bangalore/Bengaluru</td>\n",
       "      <td>IT Skills, Python, Data Science, Machine Learn...</td>\n",
       "    </tr>\n",
       "  </tbody>\n",
       "</table>\n",
       "</div>"
      ],
      "text/plain": [
       "   id                                           Job_Role            Company  \\\n",
       "0   1                              Senior Data Scientist                UPL   \n",
       "1   2                              Senior Data Scientist            Walmart   \n",
       "2   3  Applied Data Scientist / ML Senior Engineer (P...  SAP India Pvt.Ltd   \n",
       "3   4                                     Data Scientist                UPL   \n",
       "4   5                                     Data Scientist            Walmart   \n",
       "\n",
       "                                  Location  \\\n",
       "0  Bangalore/Bengaluru, Mumbai (All Areas)   \n",
       "1                      Bangalore/Bengaluru   \n",
       "2                      Bangalore/Bengaluru   \n",
       "3  Bangalore/Bengaluru, Mumbai (All Areas)   \n",
       "4                      Bangalore/Bengaluru   \n",
       "\n",
       "                                  Skills/Description  \n",
       "0  python, MLT, statistical modeling, machine lea...  \n",
       "1  Data Science, Machine learning, Python, Azure,...  \n",
       "2  Python, IT Skills, Testing, Cloud, Product Man...  \n",
       "3  python, machine learning, Data Science, data a...  \n",
       "4  IT Skills, Python, Data Science, Machine Learn...  "
      ]
     },
     "execution_count": 144,
     "metadata": {},
     "output_type": "execute_result"
    }
   ],
   "source": [
    "companies.head(5)"
   ]
  },
  {
   "cell_type": "code",
   "execution_count": 145,
   "id": "3c2aaf9d",
   "metadata": {},
   "outputs": [
    {
     "data": {
      "text/html": [
       "<div>\n",
       "<style scoped>\n",
       "    .dataframe tbody tr th:only-of-type {\n",
       "        vertical-align: middle;\n",
       "    }\n",
       "\n",
       "    .dataframe tbody tr th {\n",
       "        vertical-align: top;\n",
       "    }\n",
       "\n",
       "    .dataframe thead th {\n",
       "        text-align: right;\n",
       "    }\n",
       "</style>\n",
       "<table border=\"1\" class=\"dataframe\">\n",
       "  <thead>\n",
       "    <tr style=\"text-align: right;\">\n",
       "      <th></th>\n",
       "      <th>id</th>\n",
       "      <th>applicants</th>\n",
       "      <th>Desired location</th>\n",
       "      <th>current_job_id</th>\n",
       "      <th>skills</th>\n",
       "      <th>Unnamed: 5</th>\n",
       "      <th>Unnamed: 6</th>\n",
       "      <th>Unnamed: 7</th>\n",
       "      <th>Unnamed: 8</th>\n",
       "      <th>Unnamed: 9</th>\n",
       "      <th>Unnamed: 10</th>\n",
       "      <th>Unnamed: 11</th>\n",
       "      <th>Unnamed: 12</th>\n",
       "      <th>Unnamed: 13</th>\n",
       "    </tr>\n",
       "  </thead>\n",
       "  <tbody>\n",
       "    <tr>\n",
       "      <th>0</th>\n",
       "      <td>1</td>\n",
       "      <td>aqmer</td>\n",
       "      <td>Bangalore/Bengaluru</td>\n",
       "      <td>93</td>\n",
       "      <td>python, Django, pytorch, Text Mining, Predicti...</td>\n",
       "      <td>NaN</td>\n",
       "      <td>NaN</td>\n",
       "      <td>NaN</td>\n",
       "      <td>NaN</td>\n",
       "      <td>NaN</td>\n",
       "      <td>NaN</td>\n",
       "      <td>NaN</td>\n",
       "      <td>NaN</td>\n",
       "      <td>NaN</td>\n",
       "    </tr>\n",
       "    <tr>\n",
       "      <th>1</th>\n",
       "      <td>2</td>\n",
       "      <td>affan</td>\n",
       "      <td>Chennai</td>\n",
       "      <td>10</td>\n",
       "      <td>Machine Learning, Python, Tableau, Azure, GCP,...</td>\n",
       "      <td>NaN</td>\n",
       "      <td>NaN</td>\n",
       "      <td>NaN</td>\n",
       "      <td>NaN</td>\n",
       "      <td>NaN</td>\n",
       "      <td>NaN</td>\n",
       "      <td>NaN</td>\n",
       "      <td>NaN</td>\n",
       "      <td>NaN</td>\n",
       "    </tr>\n",
       "    <tr>\n",
       "      <th>2</th>\n",
       "      <td>3</td>\n",
       "      <td>hamza</td>\n",
       "      <td>warangal</td>\n",
       "      <td>280</td>\n",
       "      <td>Data Scientist, data analysis, AI, Sklearn, bi...</td>\n",
       "      <td>NaN</td>\n",
       "      <td>NaN</td>\n",
       "      <td>NaN</td>\n",
       "      <td>NaN</td>\n",
       "      <td>NaN</td>\n",
       "      <td>NaN</td>\n",
       "      <td>NaN</td>\n",
       "      <td>NaN</td>\n",
       "      <td>NaN</td>\n",
       "    </tr>\n",
       "    <tr>\n",
       "      <th>3</th>\n",
       "      <td>4</td>\n",
       "      <td>Ali</td>\n",
       "      <td>Pune</td>\n",
       "      <td>30</td>\n",
       "      <td>Tableau, Data Science, R, Logistic Regression,...</td>\n",
       "      <td>NaN</td>\n",
       "      <td>NaN</td>\n",
       "      <td>NaN</td>\n",
       "      <td>NaN</td>\n",
       "      <td>NaN</td>\n",
       "      <td>NaN</td>\n",
       "      <td>NaN</td>\n",
       "      <td>NaN</td>\n",
       "      <td>jk</td>\n",
       "    </tr>\n",
       "    <tr>\n",
       "      <th>4</th>\n",
       "      <td>5</td>\n",
       "      <td>wali</td>\n",
       "      <td>Gurgaon/Gurugram</td>\n",
       "      <td>38</td>\n",
       "      <td>Computer science, Networking, Pharma, Machine ...</td>\n",
       "      <td>NaN</td>\n",
       "      <td>NaN</td>\n",
       "      <td>NaN</td>\n",
       "      <td>NaN</td>\n",
       "      <td>NaN</td>\n",
       "      <td>NaN</td>\n",
       "      <td>NaN</td>\n",
       "      <td>NaN</td>\n",
       "      <td>NaN</td>\n",
       "    </tr>\n",
       "  </tbody>\n",
       "</table>\n",
       "</div>"
      ],
      "text/plain": [
       "   id applicants     Desired location  current_job_id  \\\n",
       "0   1      aqmer  Bangalore/Bengaluru              93   \n",
       "1   2      affan              Chennai              10   \n",
       "2   3      hamza             warangal             280   \n",
       "3   4        Ali                 Pune              30   \n",
       "4   5       wali     Gurgaon/Gurugram              38   \n",
       "\n",
       "                                              skills  Unnamed: 5  Unnamed: 6  \\\n",
       "0  python, Django, pytorch, Text Mining, Predicti...         NaN         NaN   \n",
       "1  Machine Learning, Python, Tableau, Azure, GCP,...         NaN         NaN   \n",
       "2  Data Scientist, data analysis, AI, Sklearn, bi...         NaN         NaN   \n",
       "3  Tableau, Data Science, R, Logistic Regression,...         NaN         NaN   \n",
       "4  Computer science, Networking, Pharma, Machine ...         NaN         NaN   \n",
       "\n",
       "   Unnamed: 7  Unnamed: 8  Unnamed: 9  Unnamed: 10  Unnamed: 11  Unnamed: 12  \\\n",
       "0         NaN         NaN         NaN          NaN          NaN          NaN   \n",
       "1         NaN         NaN         NaN          NaN          NaN          NaN   \n",
       "2         NaN         NaN         NaN          NaN          NaN          NaN   \n",
       "3         NaN         NaN         NaN          NaN          NaN          NaN   \n",
       "4         NaN         NaN         NaN          NaN          NaN          NaN   \n",
       "\n",
       "  Unnamed: 13  \n",
       "0         NaN  \n",
       "1         NaN  \n",
       "2         NaN  \n",
       "3          jk  \n",
       "4         NaN  "
      ]
     },
     "execution_count": 145,
     "metadata": {},
     "output_type": "execute_result"
    }
   ],
   "source": [
    "applicants.head(5)"
   ]
  },
  {
   "cell_type": "code",
   "execution_count": 146,
   "id": "dce18924",
   "metadata": {},
   "outputs": [],
   "source": [
    "from sklearn.metrics.pairwise import cosine_similarity"
   ]
  },
  {
   "cell_type": "code",
   "execution_count": 147,
   "id": "2246c12c",
   "metadata": {},
   "outputs": [
    {
     "name": "stdout",
     "output_type": "stream",
     "text": [
      "['data scientist', 'it skills', 'project management', 'bpo', 'project management', 'auditing', 'travel', 'story telling']\n"
     ]
    }
   ],
   "source": [
    "required_skills = []\n",
    "col5c = companies['Skills/Description']\n",
    "for i in col5c:\n",
    "    required_skills.append([i])\n",
    "\n",
    "for i in range(0, len(companies)):\n",
    "    required_skills[i] = required_skills[i][0].split(\", \")\n",
    "    required_skills[i] = [string.lower() for string in required_skills[i]]\n",
    "print(required_skills[100])"
   ]
  },
  {
   "cell_type": "code",
   "execution_count": 148,
   "id": "8a42268b",
   "metadata": {},
   "outputs": [
    {
     "name": "stdout",
     "output_type": "stream",
     "text": [
      "['pune']\n"
     ]
    }
   ],
   "source": [
    "required_location = []\n",
    "col4c = companies['Location']\n",
    "for i in col4c:\n",
    "    required_location.append([i])\n",
    "\n",
    "for i in range(0, len(companies)):\n",
    "    required_location[i] = required_location[i][0].split(\", \")\n",
    "    required_location[i] = [string.lower() for string in required_location[i]]\n",
    "print(required_location[100])"
   ]
  },
  {
   "cell_type": "code",
   "execution_count": 149,
   "id": "ae2eea30",
   "metadata": {},
   "outputs": [
    {
     "name": "stdout",
     "output_type": "stream",
     "text": [
      "['eclerx']\n"
     ]
    }
   ],
   "source": [
    "company_name = []\n",
    "col3c = companies['Company']\n",
    "for i in col3c:\n",
    "    company_name.append([i])\n",
    "\n",
    "for i in range(0, len(companies)):\n",
    "    company_name[i] = [string.lower() for string in company_name[i]]\n",
    "print(company_name[100])"
   ]
  },
  {
   "cell_type": "code",
   "execution_count": 150,
   "id": "38c98524",
   "metadata": {},
   "outputs": [
    {
     "name": "stdout",
     "output_type": "stream",
     "text": [
      "['digital-associate process manager - data scientist apm']\n"
     ]
    }
   ],
   "source": [
    "job_role = []\n",
    "col2c = companies['Job_Role']\n",
    "for i in col2c:\n",
    "    job_role.append([i])\n",
    "\n",
    "for i in range(0, len(companies)):\n",
    "    job_role[i] = [string.lower() for string in job_role[i]]\n",
    "print(job_role[100])"
   ]
  },
  {
   "cell_type": "code",
   "execution_count": 151,
   "id": "bc008607",
   "metadata": {},
   "outputs": [
    {
     "name": "stdout",
     "output_type": "stream",
     "text": [
      "101\n"
     ]
    }
   ],
   "source": [
    "comid = []\n",
    "col1c = companies['id']\n",
    "for i in col1c:\n",
    "    comid.append(i)\n",
    "print(comid[100])"
   ]
  },
  {
   "cell_type": "code",
   "execution_count": 152,
   "id": "2b6b079c",
   "metadata": {},
   "outputs": [
    {
     "name": "stdout",
     "output_type": "stream",
     "text": [
      "['machine learning', 'python', 'tableau', 'azure', 'gcp', 'data mining', 'data analysis', 'sql', 'jira', 'deep learning']\n"
     ]
    }
   ],
   "source": [
    "skills = []\n",
    "col5a = applicants['skills']\n",
    "for i in col5a:\n",
    "    skills.append([i])\n",
    "\n",
    "for i in range(0, len(applicants)):\n",
    "    skills[i] = skills[i][0].split(\", \")\n",
    "    skills[i] = [string.lower() for string in skills[i]]\n",
    "\n",
    "print(skills[1])"
   ]
  },
  {
   "cell_type": "code",
   "execution_count": 153,
   "id": "e7cdef97",
   "metadata": {},
   "outputs": [
    {
     "name": "stdout",
     "output_type": "stream",
     "text": [
      "10\n"
     ]
    }
   ],
   "source": [
    "current_job = []\n",
    "col4a = applicants['current_job_id']\n",
    "for i in col4a:\n",
    "    current_job.append(i)\n",
    "print(current_job[1])"
   ]
  },
  {
   "cell_type": "code",
   "execution_count": 154,
   "id": "7995916a",
   "metadata": {},
   "outputs": [
    {
     "name": "stdout",
     "output_type": "stream",
     "text": [
      "['chennai']\n"
     ]
    }
   ],
   "source": [
    "desired_location = []\n",
    "col3a = applicants['Desired location']\n",
    "for i in col3a:\n",
    "    desired_location.append([i])\n",
    "for i in range(0, len(applicants)):\n",
    "    desired_location[i] = [string.lower() for string in desired_location[i]]\n",
    "print(desired_location[1])"
   ]
  },
  {
   "cell_type": "code",
   "execution_count": 155,
   "id": "31f6ff5e",
   "metadata": {},
   "outputs": [
    {
     "name": "stdout",
     "output_type": "stream",
     "text": [
      "['affan']\n"
     ]
    }
   ],
   "source": [
    "appname = []\n",
    "col2a = applicants['applicants']\n",
    "for i in col2a:\n",
    "    appname.append([i])\n",
    "for i in range(0, len(applicants)):\n",
    "    appname[i] = [string.lower() for string in appname[i]]\n",
    "print(appname[1])"
   ]
  },
  {
   "cell_type": "code",
   "execution_count": 156,
   "id": "f07ed918",
   "metadata": {},
   "outputs": [
    {
     "name": "stdout",
     "output_type": "stream",
     "text": [
      "2\n"
     ]
    }
   ],
   "source": [
    "appid = []\n",
    "col1a = applicants['id']\n",
    "for i in col1a:\n",
    "    appid.append(i)\n",
    "print(appid[1])"
   ]
  },
  {
   "cell_type": "markdown",
   "id": "c6b33fea",
   "metadata": {},
   "source": [
    "# Colaborative Item Based"
   ]
  },
  {
   "cell_type": "code",
   "execution_count": 157,
   "id": "ffc31aa8",
   "metadata": {},
   "outputs": [
    {
     "name": "stdout",
     "output_type": "stream",
     "text": [
      "    managed services  software development engineer ii  contact discovery  \\\n",
      "1                  0                                 0                  0   \n",
      "2                  0                                 0                  0   \n",
      "3                  0                                 0                  0   \n",
      "4                  0                                 0                  0   \n",
      "5                  0                                 0                  0   \n",
      "6                  0                                 0                  0   \n",
      "7                  0                                 0                  0   \n",
      "8                  0                                 0                  0   \n",
      "9                  0                                 0                  0   \n",
      "10                 0                                 0                  0   \n",
      "\n",
      "    software developer  mercurial  android framework  etl jobs  aws rds  \\\n",
      "1                    0          0                  0         0        0   \n",
      "2                    0          0                  0         0        0   \n",
      "3                    0          0                  0         0        0   \n",
      "4                    0          0                  0         0        0   \n",
      "5                    0          0                  0         0        0   \n",
      "6                    0          0                  0         0        0   \n",
      "7                    0          0                  0         0        0   \n",
      "8                    0          0                  0         0        0   \n",
      "9                    0          0                  0         0        0   \n",
      "10                   0          0                  0         0        0   \n",
      "\n",
      "    engineering services  mechanical design  ...  git  go  retail banking  \\\n",
      "1                      0                  0  ...    0   0               0   \n",
      "2                      0                  0  ...    0   0               0   \n",
      "3                      0                  0  ...    0   0               0   \n",
      "4                      0                  0  ...    0   0               0   \n",
      "5                      0                  0  ...    0   0               0   \n",
      "6                      0                  0  ...    0   0               0   \n",
      "7                      0                  0  ...    0   0               0   \n",
      "8                      0                  0  ...    0   0               0   \n",
      "9                      0                  0  ...    0   0               0   \n",
      "10                     0                  0  ...    0   0               0   \n",
      "\n",
      "    data quality  customer acquisition  written communications  \\\n",
      "1              0                     0                       0   \n",
      "2              0                     0                       0   \n",
      "3              0                     0                       0   \n",
      "4              0                     0                       0   \n",
      "5              0                     0                       0   \n",
      "6              0                     0                       0   \n",
      "7              0                     0                       0   \n",
      "8              0                     0                       0   \n",
      "9              0                     0                       0   \n",
      "10             0                     0                       0   \n",
      "\n",
      "    big data platforms  data insight  sap bw  factor analysis  \n",
      "1                    0             0       0                0  \n",
      "2                    0             0       0                0  \n",
      "3                    0             0       0                0  \n",
      "4                    0             0       0                0  \n",
      "5                    0             0       0                0  \n",
      "6                    0             0       0                0  \n",
      "7                    0             0       0                0  \n",
      "8                    0             0       0                0  \n",
      "9                    0             0       0                0  \n",
      "10                   0             0       0                0  \n",
      "\n",
      "[10 rows x 3003 columns]\n"
     ]
    }
   ],
   "source": [
    "all_skillsreq = set(skillreq for skillsreq in required_skills for skillreq in skillsreq)\n",
    "data = {}\n",
    "for i, skillsreq in enumerate(required_skills):\n",
    "    data[comid[i]] = {skillreq: int(skillreq in skillsreq) for skillreq in all_skillsreq}\n",
    "df1 = pd.DataFrame.from_dict(data, orient='index')\n",
    "\n",
    "print(df1.head(10))\n",
    "\n"
   ]
  },
  {
   "cell_type": "code",
   "execution_count": 158,
   "id": "d2e65c2d",
   "metadata": {},
   "outputs": [
    {
     "name": "stdout",
     "output_type": "stream",
     "text": [
      "similar companies for  usaman  ID = 25  city = bangalore/bengaluru\n",
      "\n",
      "\n",
      "ID = 3792   Company Name =  nts technology services private limited   city = ['bangalore/bengaluru']\n",
      "ID = 1144   Company Name =  global upside india pvt ltd   city = ['new delhi', 'bangalore/bengaluru']\n",
      "ID = 4   Company Name =  upl   city = ['bangalore/bengaluru', 'mumbai (all areas)']\n",
      "ID = 3178   Company Name =  pathway creators   city = ['bangalore/bengaluru']\n",
      "ID = 3421   Company Name =  impetus   city = ['indore', 'hyderabad/secunderabad', 'pune', 'bangalore/bengaluru', 'delhi / ncr']\n",
      "ID = 1754   Company Name =  visa   city = ['bangalore/bengaluru']\n",
      "ID = 1759   Company Name =  visa   city = ['bangalore/bengaluru']\n",
      "ID = 2519   Company Name =  ibm   city = ['bangalore/bengaluru']\n",
      "ID = 2518   Company Name =  quest global   city = ['bangalore/bengaluru']\n",
      "ID = 3854   Company Name =  thoucentric technology pvt ltd   city = ['bangalore/bengaluru']\n",
      "ID = 3495   Company Name =  dxc technology   city = ['hyderabad/secunderabad', 'bangalore/bengaluru']\n",
      "ID = 3498   Company Name =  dxc technology   city = ['bangalore/bengaluru']\n",
      "ID = 2495   Company Name =  applied materials   city = ['bangalore/bengaluru']\n",
      "ID = 378   Company Name =  ihs markit   city = ['bangalore/bengaluru']\n",
      "ID = 2480   Company Name =  xoriant   city = ['pune', 'bangalore/bengaluru']\n",
      "ID = 1741   Company Name =  thomson reuters   city = ['bangalore/bengaluru']\n",
      "ID = 1719   Company Name =  accenture   city = ['bangalore/bengaluru']\n",
      "ID = 1164   Company Name =  protocolzone private limited   city = ['ahmedabad', 'bangalore/bengaluru']\n",
      "ID = 3906   Company Name =  axa business services pvt ltd   city = ['bengaluru']\n",
      "ID = 1305   Company Name =  ecolibrium energy private limited   city = ['pune']\n",
      "ID = 3081   Company Name =  tiger analytics india consulting private limited   city = ['chennai']\n",
      "ID = 3792   Company Name =  nts technology services private limited   city = ['bangalore/bengaluru']\n",
      "ID = 275   Company Name =  sanvijay rolling and engineering limited   city = ['nagpur']\n",
      "ID = 1144   Company Name =  global upside india pvt ltd   city = ['new delhi', 'bangalore/bengaluru']\n",
      "ID = 1401   Company Name =  flectify   city = ['remote']\n",
      "ID = 4   Company Name =  upl   city = ['bangalore/bengaluru', 'mumbai (all areas)']\n",
      "ID = 3178   Company Name =  pathway creators   city = ['bangalore/bengaluru']\n",
      "ID = 3421   Company Name =  impetus   city = ['indore', 'hyderabad/secunderabad', 'pune', 'bangalore/bengaluru', 'delhi / ncr']\n",
      "ID = 1168   Company Name =  fragma data systems pvt. ltd.   city = ['remote']\n",
      "ID = 3183   Company Name =  anicalls   city = ['noida']\n",
      "ID = 1093   Company Name =  huquo consulting pvt. ltd   city = ['gurgaon/gurugram']\n",
      "ID = 1070   Company Name =  serving skill   city = ['kochi/cochin']\n",
      "ID = 2526   Company Name =  ibm   city = ['hyderabad/secunderabad']\n",
      "ID = 1754   Company Name =  visa   city = ['bangalore/bengaluru']\n",
      "ID = 1759   Company Name =  visa   city = ['bangalore/bengaluru']\n",
      "ID = 2519   Company Name =  ibm   city = ['bangalore/bengaluru']\n",
      "ID = 3491   Company Name =  huquo consulting pvt. ltd   city = ['delhi / ncr']\n",
      "ID = 2518   Company Name =  quest global   city = ['bangalore/bengaluru']\n",
      "ID = 3854   Company Name =  thoucentric technology pvt ltd   city = ['bangalore/bengaluru']\n",
      "ID = 3495   Company Name =  dxc technology   city = ['hyderabad/secunderabad', 'bangalore/bengaluru']\n",
      "ID = 1055   Company Name =  infostretch solutions pvt. ltd.   city = ['hyderabad/secunderabad']\n",
      "ID = 3498   Company Name =  dxc technology   city = ['bangalore/bengaluru']\n",
      "ID = 1105   Company Name =  huquo consulting pvt. ltd   city = ['delhi / ncr']\n",
      "ID = 2495   Company Name =  applied materials   city = ['bangalore/bengaluru']\n",
      "ID = 1036   Company Name =  squadrun, inc   city = ['new delhi']\n",
      "ID = 1034   Company Name =  foghorn   city = ['pune']\n",
      "ID = 1033   Company Name =  diverse lynx   city = ['hyderabad']\n",
      "ID = 1029   Company Name =  schrdinger   city = ['hyderabad/secunderabad']\n",
      "ID = 378   Company Name =  ihs markit   city = ['bangalore/bengaluru']\n",
      "ID = 2480   Company Name =  xoriant   city = ['pune', 'bangalore/bengaluru']\n",
      "ID = 384   Company Name =  geakminds technologies private limited   city = ['chennai']\n",
      "ID = 386   Company Name =  vision beyond resources india private limited   city = ['remote']\n",
      "ID = 1850   Company Name =  impetus   city = ['noida', 'indore']\n",
      "ID = 1047   Company Name =  process point technologies india private limited   city = ['hyderabad/secunderabad']\n",
      "ID = 3191   Company Name =  talent500 tech (india) private limited   city = ['hyderabad/secunderabad']\n",
      "ID = 1741   Company Name =  thomson reuters   city = ['bangalore/bengaluru']\n",
      "ID = 1719   Company Name =  accenture   city = ['bangalore/bengaluru']\n",
      "ID = 1164   Company Name =  protocolzone private limited   city = ['ahmedabad', 'bangalore/bengaluru']\n"
     ]
    }
   ],
   "source": [
    "# calculate the item similarities\n",
    "cos_sim = cosine_similarity(df1)\n",
    "\n",
    "def get_similar_rows(row_id, df1, cos_sim,no_of_sim):\n",
    "    row_index = row_id - 1\n",
    "    row_similarities = cos_sim[row_index]\n",
    "    most_similar_rows = np.argsort(row_similarities)[::-1][1:(no_of_sim+1)] + 1\n",
    "    return most_similar_rows\n",
    "\n",
    "appidforsim = 25\n",
    "appjobforsim=current_job[appidforsim-1]\n",
    "similar_companies = get_similar_rows(appjobforsim, df1, cos_sim,40)\n",
    "\n",
    "print(\"similar companies for \", appname[appidforsim-1][0],\" ID =\",appidforsim, \" city =\",desired_location[appidforsim-1][0])\n",
    "print(\"\\n\")\n",
    "\n",
    "for i in similar_companies:\n",
    "    if desired_location[appidforsim-1][0] in required_location[i-1]:\n",
    "        print(\"ID =\",i,\"  Company Name = \", company_name[i-1][0], \"  city =\",required_location[i-1])\n",
    "\n",
    "for i in similar_companies:\n",
    "    print(\"ID =\",i,\"  Company Name = \", company_name[i-1][0], \"  city =\",required_location[i-1])"
   ]
  },
  {
   "cell_type": "markdown",
   "id": "aa572cd8",
   "metadata": {},
   "source": [
    "# Hybrid and Collaborative User based"
   ]
  },
  {
   "cell_type": "code",
   "execution_count": 159,
   "id": "8b111ff1",
   "metadata": {},
   "outputs": [
    {
     "name": "stdout",
     "output_type": "stream",
     "text": [
      "similar Users for  umer  ID = 100  city = pune\n",
      "\n",
      "\n",
      "ID = 2   Applicant Name =  affan   Company Name =  global employees   city = chennai\n",
      "Recommended companies for  umer  ID = 100  city = pune\n",
      "\n",
      "\n",
      "ID       Job Role                                                     Company Name                                       City                                    \n",
      "211      data scientist                                               knowledge foundry                                  Pune, Bangalore/Bengaluru               \n",
      "122      data scientist                                               amdocs                                             Pune                                    \n",
      "913      data scientist ( m / f / d )                                 aioneers gmbh                                      Pune                                    \n",
      "816      data scientist - python/ machine learning                    corner tree consulting                             Mumbai, Hyderabad/Secunderabad, Pune, Chennai, Bangalore/Bengaluru, Delhi / NCR\n",
      "811      data scientist - python / machine learning                   corner tree consulting                             Mumbai, Pune, Chennai, Bangalore/Bengaluru, Delhi / NCR\n",
      "3846     lead data analyst                                            helles talent solutions private limited            Pune, Bangalore/Bengaluru, Delhi / NCR  \n",
      "2116     data analyst                                                 unitedlex                                          Gurgaon/Gurugram, Bangalore/Bengaluru   \n",
      "1924     senior data analyst                                          insurancedekho                                     Delhi / NCR                             \n",
      "1325     data scientist                                               bigshyft.com                                       Bangalore/Bengaluru                     \n",
      "1181     data scientist                                               teamplus staffing solution pvt ltd                 Bangalore/Bengaluru                     \n",
      "143      manager - data scientist - analytics                         huquo consulting pvt. ltd                          Gurgaon/Gurugram                        \n"
     ]
    }
   ],
   "source": [
    "# collaborative user based\n",
    "all_skillsapp = set(skillapp for skillsapp in skills for skillapp in skillsapp)\n",
    "data2 = {}\n",
    "for i, skillsapp in enumerate(skills):\n",
    "    data2[appid[i]] = {skillapp: int(skillapp in skillsapp) for skillapp in all_skillsapp}\n",
    "df2 = pd.DataFrame.from_dict(data2, orient='index')\n",
    "\n",
    "\n",
    "# calculate the item similarities\n",
    "cos_sim2 = cosine_similarity(df2)\n",
    "\n",
    "appidforsim = 100\n",
    "if(current_job[appidforsim-1]==0):\n",
    "    similar_users = get_similar_rows(appidforsim, df2, cos_sim2,1)\n",
    "\n",
    "    print(\"similar Users for \", appname[appidforsim-1][0],\" ID =\",appidforsim, \" city =\",desired_location[appidforsim-1][0])\n",
    "    print(\"\\n\")\n",
    "\n",
    "    # for i in similar_companies:\n",
    "    #     if desired_location[appidforsim-1][0] in required_location[i-1]:\n",
    "    #         print(\"ID =\",i,\"  Company Name = \", company_name[i-1][0], \"  city =\",required_location[i-1])\n",
    "\n",
    "    for i in similar_users:\n",
    "        print(\"ID =\",i,\"  Applicant Name = \", appname[i-1][0], \"  Company Name = \", company_name[current_job[i-1]][0], \"  city =\",desired_location[i-1][0])\n",
    "\n",
    "    #hybrid collaborative filtering\n",
    "\n",
    "    appidforsim2 = similar_users[0]\n",
    "    appjobforsim2=current_job[appidforsim-1]\n",
    "    similar_companies = get_similar_rows(appjobforsim2, df1, cos_sim,100)\n",
    "\n",
    "    print(\"Recommended companies for \", appname[appidforsim-1][0],\" ID =\",appidforsim, \" city =\",desired_location[appidforsim-1][0])\n",
    "    print(\"\\n\")\n",
    "\n",
    "    j=0\n",
    "    limit=10\n",
    "    print (\"{:<8} {:<60} {:<50} {:<40}\".format('ID','Job Role','Company Name','City'))\n",
    "    for i in similar_companies:\n",
    "        if desired_location[appidforsim-1][0] in required_location[i-1]:\n",
    "            print(\"{:<8} {:<60} {:<50} {:<40}\".format(i, job_role[i-1][0], company_name[i-1][0],col4c[i-1]))\n",
    "            if j == limit:\n",
    "                break\n",
    "            j = j + 1\n",
    "\n",
    "    for i in similar_companies:\n",
    "        if desired_location[appidforsim - 1][0] in required_location[i - 1]:\n",
    "            print(\"\",end=\"\")\n",
    "        else:\n",
    "            print(\"{:<8} {:<60} {:<50} {:<40}\".format(i, job_role[i-1][0], company_name[i-1][0],col4c[i-1]))\n",
    "            if j == limit:\n",
    "                break\n",
    "            j = j + 1\n",
    "else:\n",
    "    appjobforsim=current_job[appidforsim-1]\n",
    "    similar_companies = get_similar_rows(appjobforsim, df1, cos_sim, 100)\n",
    "\n",
    "    print(\"Recommended companies for \", appname[appidforsim - 1][0], \" ID =\", appidforsim, \" city =\",\n",
    "          desired_location[appidforsim - 1][0])\n",
    "    print(\"\\n\")\n",
    "\n",
    "    j = 0\n",
    "    limit = 10\n",
    "    print(\"{:<8} {:<60} {:<50} {:<40}\".format('ID', 'Job Role', 'Company Name', 'City'))\n",
    "    for i in similar_companies:\n",
    "        if desired_location[appidforsim - 1][0] in required_location[i - 1]:\n",
    "            print(\"{:<8} {:<60} {:<50} {:<40}\".format(i, job_role[i - 1][0], company_name[i - 1][0], col4c[i - 1]))\n",
    "            if j == limit:\n",
    "                break\n",
    "            j = j + 1\n",
    "\n",
    "    for i in similar_companies:\n",
    "        if desired_location[appidforsim - 1][0] in required_location[i - 1]:\n",
    "            print(\"\", end=\"\")\n",
    "        else:\n",
    "            print(\"{:<8} {:<60} {:<50} {:<40}\".format(i, job_role[i - 1][0], company_name[i - 1][0], col4c[i - 1]))\n",
    "            if j == limit:\n",
    "                break\n",
    "            j = j + 1"
   ]
  },
  {
   "cell_type": "markdown",
   "id": "a704b57b",
   "metadata": {},
   "source": [
    "# Neural Collaborative Filtering Using Transformers"
   ]
  },
  {
   "cell_type": "code",
   "execution_count": null,
   "id": "18df3bc2",
   "metadata": {},
   "outputs": [],
   "source": [
    "pip install tensorflow transformers"
   ]
  },
  {
   "cell_type": "code",
   "execution_count": 160,
   "id": "afda1065",
   "metadata": {},
   "outputs": [
    {
     "name": "stdout",
     "output_type": "stream",
     "text": [
      "Shapes after train_test_split:\n",
      "X_train (applicant_input): 80\n",
      "X_test (applicant_input): 20\n",
      "X_train (job_input): 80\n",
      "X_test (job_input): 20\n"
     ]
    }
   ],
   "source": [
    "import pandas as pd\n",
    "from sklearn.model_selection import train_test_split\n",
    "from transformers import BertTokenizer\n",
    "\n",
    "companies_df = pd.read_csv(r'C:\\Users\\fgfhf\\Downloads\\jobs.csv')\n",
    "applicants_df = pd.read_csv(r'C:\\Users\\fgfhf\\Downloads\\applicants.csv')\n",
    "\n",
    "sampled_companies_df = companies_df.sample(n=len(applicants_df), random_state=42)\n",
    "\n",
    "# Initialize BERT tokenizer\n",
    "tokenizer = BertTokenizer.from_pretrained('bert-base-uncased')\n",
    "\n",
    "applicant_skills = list(applicants_df['skills'])\n",
    "applicant_tokenized = tokenizer(applicant_skills, padding=True, truncation=True, return_tensors='tf')\n",
    "\n",
    "job_roles = list(sampled_companies_df['Job_Role'])\n",
    "job_descriptions = list(sampled_companies_df['Skills/Description'])\n",
    "job_tokenized = tokenizer(job_roles, job_descriptions, padding=True, truncation=True, return_tensors='tf')\n",
    "\n",
    "assert applicant_tokenized.input_ids.shape[0] == job_tokenized.input_ids.shape[0], \\\n",
    "    \"Number of applicants and job roles should match\"\n",
    "\n",
    "applicant_input_ids = applicant_tokenized['input_ids'].numpy()\n",
    "job_input_ids = job_tokenized['input_ids'].numpy()\n",
    "\n",
    "X = list(zip(applicant_input_ids, job_input_ids))\n",
    "\n",
    "X_train, X_test = train_test_split(X, test_size=0.2, random_state=42)\n",
    "\n",
    "X_train_applicants, X_train_jobs = zip(*X_train)\n",
    "X_test_applicants, X_test_jobs = zip(*X_test)\n",
    "\n",
    "print(\"Shapes after train_test_split:\")\n",
    "print(\"X_train (applicant_input):\", len(X_train_applicants))\n",
    "print(\"X_test (applicant_input):\", len(X_test_applicants))\n",
    "print(\"X_train (job_input):\", len(X_train_jobs))\n",
    "print(\"X_test (job_input):\", len(X_test_jobs))"
   ]
  },
  {
   "cell_type": "code",
   "execution_count": 161,
   "id": "70512fc7",
   "metadata": {},
   "outputs": [
    {
     "name": "stdout",
     "output_type": "stream",
     "text": [
      "Shapes of train dataset:\n",
      "Applicant Input Shape: (32, 41)\n",
      "Job Input Shape: (32, 69)\n"
     ]
    }
   ],
   "source": [
    "import pandas as pd\n",
    "from sklearn.model_selection import train_test_split\n",
    "from transformers import BertTokenizer\n",
    "import tensorflow as tf\n",
    "\n",
    "companies_df = pd.read_csv(r'C:\\Users\\fgfhf\\Downloads\\jobs.csv')\n",
    "applicants_df = pd.read_csv(r'C:\\Users\\fgfhf\\Downloads\\applicants.csv')\n",
    "\n",
    "# Tokenize text data using BERT tokenizer\n",
    "tokenizer = BertTokenizer.from_pretrained('bert-base-uncased')\n",
    "\n",
    "applicant_skills = list(applicants_df['skills'])\n",
    "applicants_tokenized = tokenizer(applicant_skills, padding=True, truncation=True, return_tensors='tf')\n",
    "\n",
    "job_descriptions = list(companies_df['Job_Role'] + ' ' + companies_df['Skills/Description'])\n",
    "jobs_tokenized = tokenizer(job_descriptions, padding=True, truncation=True, return_tensors='tf')\n",
    "\n",
    "applicant_inputs = tf.repeat(applicants_tokenized['input_ids'], jobs_tokenized['input_ids'].shape[0], axis=0)\n",
    "job_inputs = tf.tile(jobs_tokenized['input_ids'], [applicants_tokenized['input_ids'].shape[0], 1])\n",
    "\n",
    "train_dataset = tf.data.Dataset.from_tensor_slices(({'applicant_input': applicant_inputs, 'job_input': job_inputs}))\n",
    "train_dataset = train_dataset.shuffle(buffer_size=1024).batch(32)\n",
    "\n",
    "print(\"Shapes of train dataset:\")\n",
    "for elem in train_dataset:\n",
    "    print(\"Applicant Input Shape:\", elem['applicant_input'].shape)\n",
    "    print(\"Job Input Shape:\", elem['job_input'].shape)\n",
    "    break  # Only print the shapes of the first batch for illustration"
   ]
  },
  {
   "cell_type": "code",
   "execution_count": 162,
   "id": "cf8df37c",
   "metadata": {},
   "outputs": [
    {
     "name": "stderr",
     "output_type": "stream",
     "text": [
      "Some weights of the PyTorch model were not used when initializing the TF 2.0 model TFBertModel: ['cls.predictions.transform.dense.bias', 'cls.predictions.transform.LayerNorm.weight', 'cls.predictions.transform.LayerNorm.bias', 'cls.seq_relationship.weight', 'cls.seq_relationship.bias', 'cls.predictions.transform.dense.weight', 'cls.predictions.bias']\n",
      "- This IS expected if you are initializing TFBertModel from a PyTorch model trained on another task or with another architecture (e.g. initializing a TFBertForSequenceClassification model from a BertForPreTraining model).\n",
      "- This IS NOT expected if you are initializing TFBertModel from a PyTorch model that you expect to be exactly identical (e.g. initializing a TFBertForSequenceClassification model from a BertForSequenceClassification model).\n",
      "All the weights of TFBertModel were initialized from the PyTorch model.\n",
      "If your task is similar to the task the model of the checkpoint was trained on, you can already use TFBertModel for predictions without further training.\n",
      "WARNING:absl:`lr` is deprecated in Keras optimizer, please use `learning_rate` or use the legacy optimizer, e.g.,tf.keras.optimizers.legacy.Adam.\n"
     ]
    },
    {
     "name": "stdout",
     "output_type": "stream",
     "text": [
      "Model: \"model_21\"\n",
      "__________________________________________________________________________________________________\n",
      " Layer (type)                Output Shape                 Param #   Connected to                  \n",
      "==================================================================================================\n",
      " applicant_input (InputLaye  [(None, None)]               0         []                            \n",
      " r)                                                                                               \n",
      "                                                                                                  \n",
      " job_input (InputLayer)      [(None, None)]               0         []                            \n",
      "                                                                                                  \n",
      " tf_bert_model_7 (TFBertMod  TFBaseModelOutputWithPooli   1094822   ['applicant_input[0][0]',     \n",
      " el)                         ngAndCrossAttentions(last_   40         'job_input[0][0]']           \n",
      "                             hidden_state=(None, None,                                            \n",
      "                             768),                                                                \n",
      "                              pooler_output=(None, 768)                                           \n",
      "                             , past_key_values=None, hi                                           \n",
      "                             dden_states=None, attentio                                           \n",
      "                             ns=None, cross_attentions=                                           \n",
      "                             None)                                                                \n",
      "                                                                                                  \n",
      " tf.__operators__.getitem_1  (None, 768)                  0         ['tf_bert_model_7[0][0]']     \n",
      " 0 (SlicingOpLambda)                                                                              \n",
      "                                                                                                  \n",
      " tf.__operators__.getitem_1  (None, 768)                  0         ['tf_bert_model_7[1][0]']     \n",
      " 1 (SlicingOpLambda)                                                                              \n",
      "                                                                                                  \n",
      " concatenate_22 (Concatenat  (None, 1536)                 0         ['tf.__operators__.getitem_10[\n",
      " e)                                                                 0][0]',                       \n",
      "                                                                     'tf.__operators__.getitem_11[\n",
      "                                                                    0][0]']                       \n",
      "                                                                                                  \n",
      " dense_59 (Dense)            (None, 128)                  196736    ['concatenate_22[0][0]']      \n",
      "                                                                                                  \n",
      " dense_60 (Dense)            (None, 1)                    129       ['dense_59[0][0]']            \n",
      "                                                                                                  \n",
      "==================================================================================================\n",
      "Total params: 109679105 (418.39 MB)\n",
      "Trainable params: 196865 (769.00 KB)\n",
      "Non-trainable params: 109482240 (417.64 MB)\n",
      "__________________________________________________________________________________________________\n",
      "Epoch 1/20\n",
      "25/25 [==============================] - 54s 993ms/step - loss: 0.8160 - accuracy: 0.4825 - val_loss: 0.7625 - val_accuracy: 0.5750\n",
      "Epoch 2/20\n",
      "25/25 [==============================] - 10s 394ms/step - loss: 0.7234 - accuracy: 0.4925 - val_loss: 0.6946 - val_accuracy: 0.5350\n",
      "Epoch 3/20\n",
      "25/25 [==============================] - 9s 370ms/step - loss: 0.7072 - accuracy: 0.4963 - val_loss: 0.6931 - val_accuracy: 0.5600\n",
      "Epoch 4/20\n",
      "25/25 [==============================] - 9s 357ms/step - loss: 0.6993 - accuracy: 0.5362 - val_loss: 0.7101 - val_accuracy: 0.4000\n",
      "Epoch 5/20\n",
      "25/25 [==============================] - 9s 363ms/step - loss: 0.6979 - accuracy: 0.5138 - val_loss: 0.6948 - val_accuracy: 0.5000\n",
      "Epoch 6/20\n",
      "25/25 [==============================] - 9s 361ms/step - loss: 0.6937 - accuracy: 0.5312 - val_loss: 0.6882 - val_accuracy: 0.5550\n",
      "Epoch 7/20\n",
      "25/25 [==============================] - 10s 397ms/step - loss: 0.7012 - accuracy: 0.5113 - val_loss: 0.6957 - val_accuracy: 0.5000\n",
      "Epoch 8/20\n",
      "25/25 [==============================] - 9s 375ms/step - loss: 0.7001 - accuracy: 0.4800 - val_loss: 0.6896 - val_accuracy: 0.5600\n",
      "Epoch 9/20\n",
      "25/25 [==============================] - 10s 409ms/step - loss: 0.6971 - accuracy: 0.5138 - val_loss: 0.6895 - val_accuracy: 0.5350\n",
      "7/7 [==============================] - 2s 249ms/step - loss: 0.6895 - accuracy: 0.5350\n",
      "Evaluation Loss: 0.6895356774330139\n",
      "Evaluation Accuracy: 0.5350000262260437\n"
     ]
    }
   ],
   "source": [
    "# Loading BERT base model\n",
    "bert_model = TFBertModel.from_pretrained('bert-base-uncased')\n",
    "\n",
    "for layer in bert_model.layers:\n",
    "    layer.trainable = False\n",
    "\n",
    "applicant_input = Input(shape=(None,), name='applicant_input', dtype='int32')\n",
    "job_input = Input(shape=(None,), name='job_input', dtype='int32')\n",
    "\n",
    "# BERT embeddings\n",
    "applicant_embeddings = bert_model(applicant_input)[0][:, 0, :]\n",
    "job_embeddings = bert_model(job_input)[0][:, 0, :]\n",
    "\n",
    "concatenated = tf.keras.layers.Concatenate()([applicant_embeddings, job_embeddings])\n",
    "\n",
    "# Dense layers for recommendation\n",
    "dense1 = Dense(128, activation='relu')(concatenated)\n",
    "output = Dense(1, activation='sigmoid')(dense1)\n",
    "\n",
    "model = Model(inputs=[applicant_input, job_input], outputs=output)\n",
    "\n",
    "model.compile(optimizer=Adam(lr=1e-5), loss='binary_crossentropy', metrics=['accuracy'])\n",
    "\n",
    "model.summary()\n",
    "\n",
    "history = model.fit(\n",
    "    x=[train_data['user_id'], train_data['item_id']],\n",
    "    y=train_data['rating'],\n",
    "    batch_size=32,\n",
    "    epochs=20,\n",
    "    validation_data=([test_data['user_id'], test_data['item_id']], test_data['rating']),\n",
    "    callbacks=[early_stopping]\n",
    ")\n",
    "\n",
    "evaluation = model.evaluate(\n",
    "    x=[test_data['user_id'], test_data['item_id']],\n",
    "    y=test_data['rating']\n",
    ")\n",
    "\n",
    "\n",
    "print(\"Evaluation Loss:\", evaluation[0])\n",
    "print(\"Evaluation Accuracy:\", evaluation[1])"
   ]
  },
  {
   "cell_type": "code",
   "execution_count": 163,
   "id": "49086120",
   "metadata": {},
   "outputs": [
    {
     "name": "stdout",
     "output_type": "stream",
     "text": [
      "Model: \"model_22\"\n",
      "__________________________________________________________________________________________________\n",
      " Layer (type)                Output Shape                 Param #   Connected to                  \n",
      "==================================================================================================\n",
      " user_input (InputLayer)     [(None, 1)]                  0         []                            \n",
      "                                                                                                  \n",
      " item_input (InputLayer)     [(None, 1)]                  0         []                            \n",
      "                                                                                                  \n",
      " embedding_34 (Embedding)    (None, 1, 50)                5000      ['user_input[0][0]']          \n",
      "                                                                                                  \n",
      " embedding_35 (Embedding)    (None, 1, 50)                200000    ['item_input[0][0]']          \n",
      "                                                                                                  \n",
      " flatten_34 (Flatten)        (None, 50)                   0         ['embedding_34[0][0]']        \n",
      "                                                                                                  \n",
      " flatten_35 (Flatten)        (None, 50)                   0         ['embedding_35[0][0]']        \n",
      "                                                                                                  \n",
      " concatenate_23 (Concatenat  (None, 100)                  0         ['flatten_34[0][0]',          \n",
      " e)                                                                  'flatten_35[0][0]']          \n",
      "                                                                                                  \n",
      " dropout_311 (Dropout)       (None, 100)                  0         ['concatenate_23[0][0]']      \n",
      "                                                                                                  \n",
      " dense_61 (Dense)            (None, 128)                  12928     ['dropout_311[0][0]']         \n",
      "                                                                                                  \n",
      " leaky_re_lu_12 (LeakyReLU)  (None, 128)                  0         ['dense_61[0][0]']            \n",
      "                                                                                                  \n",
      " dense_62 (Dense)            (None, 64)                   8256      ['leaky_re_lu_12[0][0]']      \n",
      "                                                                                                  \n",
      " leaky_re_lu_13 (LeakyReLU)  (None, 64)                   0         ['dense_62[0][0]']            \n",
      "                                                                                                  \n",
      " dense_63 (Dense)            (None, 1)                    65        ['leaky_re_lu_13[0][0]']      \n",
      "                                                                                                  \n",
      "==================================================================================================\n",
      "Total params: 226249 (883.79 KB)\n",
      "Trainable params: 226249 (883.79 KB)\n",
      "Non-trainable params: 0 (0.00 Byte)\n",
      "__________________________________________________________________________________________________\n",
      "Epoch 1/20\n",
      "25/25 [==============================] - 4s 53ms/step - loss: 0.6943 - accuracy: 0.4888 - val_loss: 0.6915 - val_accuracy: 0.5650\n",
      "Epoch 2/20\n",
      "25/25 [==============================] - 1s 30ms/step - loss: 0.6844 - accuracy: 0.6538 - val_loss: 0.6914 - val_accuracy: 0.5250\n",
      "Epoch 3/20\n",
      "25/25 [==============================] - 0s 20ms/step - loss: 0.6339 - accuracy: 0.8150 - val_loss: 0.7028 - val_accuracy: 0.5250\n",
      "Epoch 4/20\n",
      "25/25 [==============================] - 0s 19ms/step - loss: 0.3580 - accuracy: 0.9388 - val_loss: 0.9430 - val_accuracy: 0.4800\n",
      "Epoch 5/20\n",
      "25/25 [==============================] - 0s 17ms/step - loss: 0.0955 - accuracy: 0.9638 - val_loss: 1.3646 - val_accuracy: 0.4550\n",
      "7/7 [==============================] - 0s 5ms/step - loss: 0.6914 - accuracy: 0.5250\n",
      "Evaluation Loss: 0.691417396068573\n",
      "Evaluation Accuracy: 0.5249999761581421\n"
     ]
    }
   ],
   "source": [
    "from tensorflow.keras.layers import Dropout\n",
    "from tensorflow.keras.layers import LeakyReLU\n",
    "\n",
    "# Defining model architecture with dropout and early stopping\n",
    "user_input = Input(shape=(1,), name='user_input')\n",
    "item_input = Input(shape=(1,), name='item_input')\n",
    "\n",
    "user_embedding = Embedding(input_dim=NUM_USERS, output_dim=50)(user_input)\n",
    "item_embedding = Embedding(input_dim=NUM_ITEMS, output_dim=50)(item_input)\n",
    "\n",
    "user_flat = Flatten()(user_embedding)\n",
    "item_flat = Flatten()(item_embedding)\n",
    "\n",
    "concat = Concatenate()([user_flat, item_flat])\n",
    "concat_dropout = Dropout(0.2)(concat)\n",
    "\n",
    "dense1 = Dense(128)(concat_dropout)\n",
    "activation1 = LeakyReLU(alpha=0.1)(dense1)\n",
    "dense2 = Dense(64)(activation1)\n",
    "activation2 = LeakyReLU(alpha=0.1)(dense2)\n",
    "output = Dense(1, activation='sigmoid')(activation2)\n",
    "\n",
    "\n",
    "model = Model(inputs=[user_input, item_input], outputs=output)\n",
    "model.compile(optimizer=Adam(learning_rate=0.001), loss='binary_crossentropy', metrics=['accuracy'])\n",
    "\n",
    "from tensorflow.keras.callbacks import EarlyStopping\n",
    "\n",
    "early_stopping = EarlyStopping(monitor='val_loss', patience=3, restore_best_weights=True)\n",
    "\n",
    "model.summary()\n",
    "\n",
    "history = model.fit(\n",
    "    x=[train_data['user_id'], train_data['item_id']],\n",
    "    y=train_data['rating'],\n",
    "    batch_size=32,\n",
    "    epochs=20,\n",
    "    validation_data=([test_data['user_id'], test_data['item_id']], test_data['rating']),\n",
    "    callbacks=[early_stopping]\n",
    ")\n",
    "\n",
    "evaluation = model.evaluate(\n",
    "    x=[test_data['user_id'], test_data['item_id']],\n",
    "    y=test_data['rating']\n",
    ")\n",
    "\n",
    "\n",
    "print(\"Evaluation Loss:\", evaluation[0])\n",
    "print(\"Evaluation Accuracy:\", evaluation[1])"
   ]
  },
  {
   "cell_type": "code",
   "execution_count": 164,
   "id": "695dc3dd",
   "metadata": {},
   "outputs": [
    {
     "name": "stdout",
     "output_type": "stream",
     "text": [
      "7/7 [==============================] - 0s 5ms/step\n",
      "Confusion Matrix:\n",
      "[[71 44]\n",
      " [51 34]]\n",
      "Classification Report:\n",
      "              precision    recall  f1-score   support\n",
      "\n",
      "           0       0.58      0.62      0.60       115\n",
      "           1       0.44      0.40      0.42        85\n",
      "\n",
      "    accuracy                           0.53       200\n",
      "   macro avg       0.51      0.51      0.51       200\n",
      "weighted avg       0.52      0.53      0.52       200\n",
      "\n"
     ]
    }
   ],
   "source": [
    "from sklearn.metrics import confusion_matrix, classification_report\n",
    "\n",
    "y_pred = model.predict([test_data['user_id'], test_data['item_id']])\n",
    "y_pred_binary = (y_pred > 0.5).astype(int)\n",
    "\n",
    "cm = confusion_matrix(test_data['rating'], y_pred_binary)\n",
    "print(\"Confusion Matrix:\")\n",
    "print(cm)\n",
    "\n",
    "cr = classification_report(test_data['rating'], y_pred_binary)\n",
    "print(\"Classification Report:\")\n",
    "print(cr)"
   ]
  },
  {
   "cell_type": "code",
   "execution_count": 165,
   "id": "edbc9e30",
   "metadata": {},
   "outputs": [
    {
     "data": {
      "image/png": "[encoded data removed]",
      "text/plain": [
       "<Figure size 640x480 with 1 Axes>"
      ]
     },
     "metadata": {},
     "output_type": "display_data"
    }
   ],
   "source": [
    "from sklearn.metrics import roc_curve, auc\n",
    "import matplotlib.pyplot as plt\n",
    "\n",
    "fpr, tpr, thresholds = roc_curve(test_data['rating'], y_pred)\n",
    "roc_auc = auc(fpr, tpr)\n",
    "\n",
    "plt.figure()\n",
    "plt.plot(fpr, tpr, color='darkorange', lw=2, label=f'ROC curve (AUC = {roc_auc:.2f})')\n",
    "plt.plot([0, 1], [0, 1], color='navy', lw=2, linestyle='--')\n",
    "plt.xlim([0.0, 1.0])\n",
    "plt.ylim([0.0, 1.05])\n",
    "plt.xlabel('False Positive Rate')\n",
    "plt.ylabel('True Positive Rate')\n",
    "plt.title('Receiver Operating Characteristic')\n",
    "plt.legend(loc=\"lower right\")\n",
    "plt.show()"
   ]
  },
  {
   "cell_type": "code",
   "execution_count": 170,
   "id": "300bd295",
   "metadata": {},
   "outputs": [],
   "source": [
    "import pandas as pd\n",
    "from transformers import BertTokenizer\n",
    "import tensorflow as tf\n",
    "from transformers import TFBertModel\n",
    "from tensorflow.keras.layers import Input, Dense, Concatenate\n",
    "from tensorflow.keras.models import Model\n",
    "from tensorflow.keras.optimizers import Adam\n",
    "\n",
    "def generate_recommendation(model, applicant_text, job_texts, tokenizer):\n",
    "    tokenized_applicant = tokenizer(applicant_text, padding=True, truncation=True, return_tensors='tf')['input_ids']\n",
    "    tokenized_jobs = tokenizer(job_texts, padding=True, truncation=True, return_tensors='tf')['input_ids']\n",
    "\n",
    "    scores = []\n",
    "\n",
    "    for job_id in tokenized_jobs:\n",
    "        score = model.predict([tokenized_applicant, tf.expand_dims(job_id, 0)]).flatten()[0]\n",
    "        scores.append(score)\n",
    "\n",
    "    job_scores = list(zip(scores, job_texts))\n",
    "    job_scores.sort(reverse=True, key=lambda x: x[0])\n",
    "\n",
    "    top_job = job_scores[0][1] \n",
    "\n",
    "    return top_job"
   ]
  },
  {
   "cell_type": "code",
   "execution_count": 171,
   "id": "92e904d1",
   "metadata": {},
   "outputs": [
    {
     "name": "stdout",
     "output_type": "stream",
     "text": [
      "1/1 [==============================] - 1s 517ms/step\n",
      "1/1 [==============================] - 0s 296ms/step\n",
      "1/1 [==============================] - 0s 329ms/step\n",
      "1/1 [==============================] - 0s 282ms/step\n",
      "1/1 [==============================] - 0s 266ms/step\n",
      "1/1 [==============================] - 0s 282ms/step\n",
      "1/1 [==============================] - 0s 283ms/step\n",
      "1/1 [==============================] - 0s 288ms/step\n",
      "1/1 [==============================] - 0s 283ms/step\n",
      "1/1 [==============================] - 0s 285ms/step\n",
      "Recommendation for applicant 'python, Django, pytorch, Text Mining, Predictive Analytics, Pattern Recognition, Natural Language Processing, Data Mining, Troubleshooting':\n",
      "  - Expert Data Scientist\n"
     ]
    }
   ],
   "source": [
    "applicant_text = applicants_df['skills'].values[0]\n",
    "job_texts = jobs_df['Job_Role'].values.tolist()[:10]  \n",
    "\n",
    "recommendation = generate_recommendation(model, applicant_text, job_texts, tokenizer)\n",
    "\n",
    "print(f\"Recommendation for applicant '{applicant_text}':\")\n",
    "print(f\"  - {recommendation}\")"
   ]
  },
  {
   "cell_type": "code",
   "execution_count": null,
   "id": "cfca27be",
   "metadata": {},
   "outputs": [],
   "source": []
  }
 ],
 "metadata": {
  "kernelspec": {
   "display_name": "Python 3 (ipykernel)",
   "language": "python",
   "name": "python3"
  },
  "language_info": {
   "codemirror_mode": {
    "name": "ipython",
    "version": 3
   },
   "file_extension": ".py",
   "mimetype": "text/x-python",
   "name": "python",
   "nbconvert_exporter": "python",
   "pygments_lexer": "ipython3",
   "version": "3.9.19"
  }
 },
 "nbformat": 4,
 "nbformat_minor": 5
}
